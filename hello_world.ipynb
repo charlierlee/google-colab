{
  "nbformat": 4,
  "nbformat_minor": 0,
  "metadata": {
    "colab": {
      "name": "hello-world.ipynb",
      "provenance": [],
      "authorship_tag": "ABX9TyOZbCcW6a1pMDnF2Laf07nS",
      "include_colab_link": true
    },
    "kernelspec": {
      "name": "python3",
      "display_name": "Python 3"
    }
  },
  "cells": [
    {
      "cell_type": "markdown",
      "metadata": {
        "id": "view-in-github",
        "colab_type": "text"
      },
      "source": [
        "<a href=\"https://colab.research.google.com/github/charlierlee/google-colab/blob/master/hello_world.ipynb\" target=\"_parent\"><img src=\"https://colab.research.google.com/assets/colab-badge.svg\" alt=\"Open In Colab\"/></a>"
      ]
    },
    {
      "cell_type": "code",
      "metadata": {
        "colab": {
          "base_uri": "https://localhost:8080/",
          "height": 352
        },
        "id": "UTRWlMNSRyi0",
        "outputId": "d1635929-bfae-4586-ecd9-945f5a802a46"
      },
      "source": [
        "#https://stackoverflow.com/questions/47759577/creating-a-mixture-of-probability-distributions-for-sampling\n",
        "#bla = np.arange(10)\n",
        "#array([0, 1, 2, 3, 4, 5, 6, 7, 8, 9])\n",
        "\n",
        "import numpy as np\n",
        "import matplotlib.pyplot as plt\n",
        "productStd = 1\n",
        "productMeanPrice = 3\n",
        "buyerStd = 1\n",
        "buyerMeanMoney = 5\n",
        "productScalingFactor = 1.5\n",
        "productMeanPrice = productMeanPrice * productScalingFactor\n",
        "distributions = [\n",
        "    {\"type\": np.random.normal, \"kwargs\": {\"loc\": productMeanPrice, \"scale\": productStd}}, # A goods (our produts average at loc per item)\n",
        "    {\"type\": np.random.normal, \"kwargs\": {\"loc\": buyerMeanMoney, \"scale\": buyerStd}}, # B buyers (everyone has about loc dollars in their pocket)\n",
        "]\n",
        "\n",
        "sample_size = 10000\n",
        "\n",
        "num_distr = len(distributions)\n",
        "data = np.zeros((sample_size, num_distr))\n",
        "for idx, distr in enumerate(distributions):\n",
        "    data[:, idx] = distr[\"type\"](size=(sample_size,), **distr[\"kwargs\"])\n",
        "A = data[:, 0]\n",
        "#plt.hist(A, bins=100, density=True)\n",
        "#plt.show()\n",
        "B = data[:, 1]\n",
        "#plt.hist(B, bins=100, density=True)\n",
        "#plt.show()\n",
        "S = [a if isAffordable else 0\n",
        " for isAffordable, a, b in zip(A < B, A, B)] # S affordable goods\n",
        "# S' is the cheapest of said good. For simplicity sake lets assume that is the case\n",
        "T = [b if isAffordable else 0\n",
        " for isAffordable, a, b in zip(A < B, A, B)] # T total money possessed by buyers\n",
        "\n",
        "As = np.sum(S)\n",
        "print(\"total amount of goods in S ${}\".format(As))\n",
        "mT = np.sum(T)\n",
        "print(\"total money possessed by buyers in T ${}\".format(mT))\n",
        "print(\"total money remaining in buyers pocket before scaling: ${}\".format(mT - As))\n",
        "priceFactor = 0\n",
        "steps = 100\n",
        "min = 0\n",
        "max = 3\n",
        "for xi in np.linspace(min,max,steps):\n",
        "    priceFactor = xi\n",
        "    GammaS = [a if isAffordable else 0\n",
        "    for isAffordable, a, b in zip(A < B, A * xi, B)]\n",
        "    GammaT = [b if isAffordable else 0\n",
        "    for isAffordable, a, b in zip(A < B, A * xi, B)]\n",
        "    As = np.sum(GammaS)\n",
        "    #print(\"total amount of goods in S $\", As)\n",
        "    mT = np.sum(GammaT)\n",
        "    #print(\"total money possessed by buyers in T $\", mT)\n",
        "    if As + 1000 > mT:\n",
        "        break\n",
        "print(\"amount of goods in S after scaling price by a factor of {0}: total ${1}\".format(priceFactor, As))\n",
        "print(\"total money remaining in buyers pocket after scaling ${}\".format(mT - As))\n",
        "plt.hist(S, bins=100, density=True)\n",
        "plt.show()\n"
      ],
      "execution_count": 1,
      "outputs": [
        {
          "output_type": "stream",
          "text": [
            "total amount of goods in S $26426.364373318513\n",
            "total money possessed by buyers in T $34877.93314664619\n",
            "total money remaining in buyers pocket before scaling: $8451.568773327675\n",
            "amount of goods in S after scaling price by a factor of 1.303030303030303: total $34434.35357735442\n",
            "total money remaining in buyers pocket after scaling $443.57956929176726\n"
          ],
          "name": "stdout"
        },
        {
          "output_type": "display_data",
          "data": {
            "image/png": "[encoded data removed]",
            "text/plain": [
              "<Figure size 432x288 with 1 Axes>"
            ]
          },
          "metadata": {
            "tags": [],
            "needs_background": "light"
          }
        }
      ]
    }
  ]
}